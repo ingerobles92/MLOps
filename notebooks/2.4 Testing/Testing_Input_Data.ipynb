{
 "cells": [
  {
   "cell_type": "markdown",
   "metadata": {},
   "source": [
    "# Initial Setup"
   ]
  },
  {
   "cell_type": "code",
   "execution_count": 2,
   "metadata": {},
   "outputs": [
    {
     "name": "stdout",
     "output_type": "stream",
     "text": [
      "Collecting ipytest\n",
      "  Downloading ipytest-0.14.2-py3-none-any.whl.metadata (17 kB)\n",
      "Requirement already satisfied: ipython in d:\\training\\itesm\\mlops_itesm\\practice3\\lib\\site-packages (from ipytest) (8.28.0)\n",
      "Requirement already satisfied: packaging in d:\\training\\itesm\\mlops_itesm\\practice3\\lib\\site-packages (from ipytest) (24.1)\n",
      "Requirement already satisfied: pytest>=5.4 in d:\\training\\itesm\\mlops_itesm\\practice3\\lib\\site-packages (from ipytest) (8.3.3)\n",
      "Requirement already satisfied: iniconfig in d:\\training\\itesm\\mlops_itesm\\practice3\\lib\\site-packages (from pytest>=5.4->ipytest) (2.0.0)\n",
      "Requirement already satisfied: pluggy<2,>=1.5 in d:\\training\\itesm\\mlops_itesm\\practice3\\lib\\site-packages (from pytest>=5.4->ipytest) (1.5.0)\n",
      "Requirement already satisfied: colorama in d:\\training\\itesm\\mlops_itesm\\practice3\\lib\\site-packages (from pytest>=5.4->ipytest) (0.4.6)\n",
      "Requirement already satisfied: decorator in d:\\training\\itesm\\mlops_itesm\\practice3\\lib\\site-packages (from ipython->ipytest) (5.1.1)\n",
      "Requirement already satisfied: jedi>=0.16 in d:\\training\\itesm\\mlops_itesm\\practice3\\lib\\site-packages (from ipython->ipytest) (0.19.1)\n",
      "Requirement already satisfied: matplotlib-inline in d:\\training\\itesm\\mlops_itesm\\practice3\\lib\\site-packages (from ipython->ipytest) (0.1.7)\n",
      "Requirement already satisfied: prompt-toolkit<3.1.0,>=3.0.41 in d:\\training\\itesm\\mlops_itesm\\practice3\\lib\\site-packages (from ipython->ipytest) (3.0.48)\n",
      "Requirement already satisfied: pygments>=2.4.0 in d:\\training\\itesm\\mlops_itesm\\practice3\\lib\\site-packages (from ipython->ipytest) (2.18.0)\n",
      "Requirement already satisfied: stack-data in d:\\training\\itesm\\mlops_itesm\\practice3\\lib\\site-packages (from ipython->ipytest) (0.6.3)\n",
      "Requirement already satisfied: traitlets>=5.13.0 in d:\\training\\itesm\\mlops_itesm\\practice3\\lib\\site-packages (from ipython->ipytest) (5.14.3)\n",
      "Requirement already satisfied: typing-extensions>=4.6 in d:\\training\\itesm\\mlops_itesm\\practice3\\lib\\site-packages (from ipython->ipytest) (4.12.2)\n",
      "Requirement already satisfied: parso<0.9.0,>=0.8.3 in d:\\training\\itesm\\mlops_itesm\\practice3\\lib\\site-packages (from jedi>=0.16->ipython->ipytest) (0.8.4)\n",
      "Requirement already satisfied: wcwidth in d:\\training\\itesm\\mlops_itesm\\practice3\\lib\\site-packages (from prompt-toolkit<3.1.0,>=3.0.41->ipython->ipytest) (0.2.13)\n",
      "Requirement already satisfied: executing>=1.2.0 in d:\\training\\itesm\\mlops_itesm\\practice3\\lib\\site-packages (from stack-data->ipython->ipytest) (2.1.0)\n",
      "Requirement already satisfied: asttokens>=2.1.0 in d:\\training\\itesm\\mlops_itesm\\practice3\\lib\\site-packages (from stack-data->ipython->ipytest) (2.4.1)\n",
      "Requirement already satisfied: pure-eval in d:\\training\\itesm\\mlops_itesm\\practice3\\lib\\site-packages (from stack-data->ipython->ipytest) (0.2.3)\n",
      "Requirement already satisfied: six>=1.12.0 in d:\\training\\itesm\\mlops_itesm\\practice3\\lib\\site-packages (from asttokens>=2.1.0->stack-data->ipython->ipytest) (1.16.0)\n",
      "Downloading ipytest-0.14.2-py3-none-any.whl (18 kB)\n",
      "Installing collected packages: ipytest\n",
      "Successfully installed ipytest-0.14.2\n"
     ]
    },
    {
     "name": "stderr",
     "output_type": "stream",
     "text": [
      "\n",
      "[notice] A new release of pip is available: 24.2 -> 24.3\n",
      "[notice] To update, run: python.exe -m pip install --upgrade pip\n"
     ]
    }
   ],
   "source": [
    "# This is needed only for the purpose of the notebook\n",
    "!pip install ipytest"
   ]
  },
  {
   "cell_type": "code",
   "execution_count": 3,
   "metadata": {},
   "outputs": [],
   "source": [
    "# Importing required libraries\n",
    "import pandas as pd\n",
    "import numpy as np\n",
    "\n",
    "from sklearn.linear_model import LogisticRegression\n",
    "from sklearn.model_selection import train_test_split\n",
    "from sklearn import datasets\n",
    "\n",
    "import pytest\n",
    "import ipytest\n",
    "ipytest.autoconfig()"
   ]
  },
  {
   "cell_type": "code",
   "execution_count": 4,
   "metadata": {},
   "outputs": [],
   "source": [
    "# Getting the data\n",
    "iris = datasets.load_iris()"
   ]
  },
  {
   "cell_type": "code",
   "execution_count": 5,
   "metadata": {},
   "outputs": [],
   "source": [
    "# Simple setup in the data\n",
    "iris_df = pd.DataFrame(iris.data, columns = iris.feature_names)\n",
    "iris_df['target'] = iris.target"
   ]
  },
  {
   "cell_type": "markdown",
   "metadata": {},
   "source": [
    "### Quick check in the data"
   ]
  },
  {
   "cell_type": "code",
   "execution_count": 6,
   "metadata": {},
   "outputs": [
    {
     "data": {
      "text/html": [
       "<div>\n",
       "<style scoped>\n",
       "    .dataframe tbody tr th:only-of-type {\n",
       "        vertical-align: middle;\n",
       "    }\n",
       "\n",
       "    .dataframe tbody tr th {\n",
       "        vertical-align: top;\n",
       "    }\n",
       "\n",
       "    .dataframe thead th {\n",
       "        text-align: right;\n",
       "    }\n",
       "</style>\n",
       "<table border=\"1\" class=\"dataframe\">\n",
       "  <thead>\n",
       "    <tr style=\"text-align: right;\">\n",
       "      <th></th>\n",
       "      <th>sepal length (cm)</th>\n",
       "      <th>sepal width (cm)</th>\n",
       "      <th>petal length (cm)</th>\n",
       "      <th>petal width (cm)</th>\n",
       "      <th>target</th>\n",
       "    </tr>\n",
       "  </thead>\n",
       "  <tbody>\n",
       "    <tr>\n",
       "      <th>0</th>\n",
       "      <td>5.1</td>\n",
       "      <td>3.5</td>\n",
       "      <td>1.4</td>\n",
       "      <td>0.2</td>\n",
       "      <td>0</td>\n",
       "    </tr>\n",
       "    <tr>\n",
       "      <th>1</th>\n",
       "      <td>4.9</td>\n",
       "      <td>3.0</td>\n",
       "      <td>1.4</td>\n",
       "      <td>0.2</td>\n",
       "      <td>0</td>\n",
       "    </tr>\n",
       "    <tr>\n",
       "      <th>2</th>\n",
       "      <td>4.7</td>\n",
       "      <td>3.2</td>\n",
       "      <td>1.3</td>\n",
       "      <td>0.2</td>\n",
       "      <td>0</td>\n",
       "    </tr>\n",
       "    <tr>\n",
       "      <th>3</th>\n",
       "      <td>4.6</td>\n",
       "      <td>3.1</td>\n",
       "      <td>1.5</td>\n",
       "      <td>0.2</td>\n",
       "      <td>0</td>\n",
       "    </tr>\n",
       "    <tr>\n",
       "      <th>4</th>\n",
       "      <td>5.0</td>\n",
       "      <td>3.6</td>\n",
       "      <td>1.4</td>\n",
       "      <td>0.2</td>\n",
       "      <td>0</td>\n",
       "    </tr>\n",
       "  </tbody>\n",
       "</table>\n",
       "</div>"
      ],
      "text/plain": [
       "   sepal length (cm)  sepal width (cm)  petal length (cm)  petal width (cm)  \\\n",
       "0                5.1               3.5                1.4               0.2   \n",
       "1                4.9               3.0                1.4               0.2   \n",
       "2                4.7               3.2                1.3               0.2   \n",
       "3                4.6               3.1                1.5               0.2   \n",
       "4                5.0               3.6                1.4               0.2   \n",
       "\n",
       "   target  \n",
       "0       0  \n",
       "1       0  \n",
       "2       0  \n",
       "3       0  \n",
       "4       0  "
      ]
     },
     "execution_count": 6,
     "metadata": {},
     "output_type": "execute_result"
    }
   ],
   "source": [
    "# Quick overview of the first 5 rows in the data\n",
    "iris_df.head()"
   ]
  },
  {
   "cell_type": "code",
   "execution_count": 7,
   "metadata": {},
   "outputs": [
    {
     "data": {
      "text/plain": [
       "target\n",
       "0    50\n",
       "1    50\n",
       "2    50\n",
       "Name: count, dtype: int64"
      ]
     },
     "execution_count": 7,
     "metadata": {},
     "output_type": "execute_result"
    }
   ],
   "source": [
    "# Simple counts in our target variable\n",
    "iris_df['target'].value_counts()"
   ]
  },
  {
   "cell_type": "code",
   "execution_count": 8,
   "metadata": {},
   "outputs": [
    {
     "data": {
      "text/html": [
       "<div>\n",
       "<style scoped>\n",
       "    .dataframe tbody tr th:only-of-type {\n",
       "        vertical-align: middle;\n",
       "    }\n",
       "\n",
       "    .dataframe tbody tr th {\n",
       "        vertical-align: top;\n",
       "    }\n",
       "\n",
       "    .dataframe thead th {\n",
       "        text-align: right;\n",
       "    }\n",
       "</style>\n",
       "<table border=\"1\" class=\"dataframe\">\n",
       "  <thead>\n",
       "    <tr style=\"text-align: right;\">\n",
       "      <th></th>\n",
       "      <th>sepal length (cm)</th>\n",
       "      <th>sepal width (cm)</th>\n",
       "      <th>petal length (cm)</th>\n",
       "      <th>petal width (cm)</th>\n",
       "      <th>target</th>\n",
       "    </tr>\n",
       "  </thead>\n",
       "  <tbody>\n",
       "    <tr>\n",
       "      <th>count</th>\n",
       "      <td>150.000000</td>\n",
       "      <td>150.000000</td>\n",
       "      <td>150.000000</td>\n",
       "      <td>150.000000</td>\n",
       "      <td>150.000000</td>\n",
       "    </tr>\n",
       "    <tr>\n",
       "      <th>mean</th>\n",
       "      <td>5.843333</td>\n",
       "      <td>3.057333</td>\n",
       "      <td>3.758000</td>\n",
       "      <td>1.199333</td>\n",
       "      <td>1.000000</td>\n",
       "    </tr>\n",
       "    <tr>\n",
       "      <th>std</th>\n",
       "      <td>0.828066</td>\n",
       "      <td>0.435866</td>\n",
       "      <td>1.765298</td>\n",
       "      <td>0.762238</td>\n",
       "      <td>0.819232</td>\n",
       "    </tr>\n",
       "    <tr>\n",
       "      <th>min</th>\n",
       "      <td>4.300000</td>\n",
       "      <td>2.000000</td>\n",
       "      <td>1.000000</td>\n",
       "      <td>0.100000</td>\n",
       "      <td>0.000000</td>\n",
       "    </tr>\n",
       "    <tr>\n",
       "      <th>25%</th>\n",
       "      <td>5.100000</td>\n",
       "      <td>2.800000</td>\n",
       "      <td>1.600000</td>\n",
       "      <td>0.300000</td>\n",
       "      <td>0.000000</td>\n",
       "    </tr>\n",
       "    <tr>\n",
       "      <th>50%</th>\n",
       "      <td>5.800000</td>\n",
       "      <td>3.000000</td>\n",
       "      <td>4.350000</td>\n",
       "      <td>1.300000</td>\n",
       "      <td>1.000000</td>\n",
       "    </tr>\n",
       "    <tr>\n",
       "      <th>75%</th>\n",
       "      <td>6.400000</td>\n",
       "      <td>3.300000</td>\n",
       "      <td>5.100000</td>\n",
       "      <td>1.800000</td>\n",
       "      <td>2.000000</td>\n",
       "    </tr>\n",
       "    <tr>\n",
       "      <th>max</th>\n",
       "      <td>7.900000</td>\n",
       "      <td>4.400000</td>\n",
       "      <td>6.900000</td>\n",
       "      <td>2.500000</td>\n",
       "      <td>2.000000</td>\n",
       "    </tr>\n",
       "  </tbody>\n",
       "</table>\n",
       "</div>"
      ],
      "text/plain": [
       "       sepal length (cm)  sepal width (cm)  petal length (cm)  \\\n",
       "count         150.000000        150.000000         150.000000   \n",
       "mean            5.843333          3.057333           3.758000   \n",
       "std             0.828066          0.435866           1.765298   \n",
       "min             4.300000          2.000000           1.000000   \n",
       "25%             5.100000          2.800000           1.600000   \n",
       "50%             5.800000          3.000000           4.350000   \n",
       "75%             6.400000          3.300000           5.100000   \n",
       "max             7.900000          4.400000           6.900000   \n",
       "\n",
       "       petal width (cm)      target  \n",
       "count        150.000000  150.000000  \n",
       "mean           1.199333    1.000000  \n",
       "std            0.762238    0.819232  \n",
       "min            0.100000    0.000000  \n",
       "25%            0.300000    0.000000  \n",
       "50%            1.300000    1.000000  \n",
       "75%            1.800000    2.000000  \n",
       "max            2.500000    2.000000  "
      ]
     },
     "execution_count": 8,
     "metadata": {},
     "output_type": "execute_result"
    }
   ],
   "source": [
    "iris_df.describe()"
   ]
  },
  {
   "cell_type": "markdown",
   "metadata": {},
   "source": [
    "### Setting up the classes to build a simple model"
   ]
  },
  {
   "cell_type": "code",
   "execution_count": 9,
   "metadata": {},
   "outputs": [],
   "source": [
    "class SimplePipeline:\n",
    "    def __init__(self):\n",
    "        self.frame = None\n",
    "        # Each value is None when we instantiate the class\n",
    "        self.X_train, self.X_test, self.y_train, self.Y_test = None, None, None, None\n",
    "        self.model = None\n",
    "        self.load_dataset()\n",
    "    \n",
    "    def load_dataset(self):\n",
    "        \"\"\"Loading the dataset, and make the train, test, split.\"\"\"\n",
    "        dataset = datasets.load_iris()\n",
    "        \n",
    "        # Removing the units (cm) from the headers\n",
    "        self.feature_names = [fn[:-5] for fn in dataset.feature_names]\n",
    "        self.frame = pd.DataFrame(dataset.data, columns=self.feature_names)\n",
    "        self.frame['target'] = dataset.target\n",
    "        \n",
    "        self.X_train, self.X_test, self.y_train, self.y_test = train_test_split(\n",
    "            self.frame[self.feature_names], self.frame.target, test_size=0.65, random_state=42)\n",
    "        \n",
    "    def train(self, algorithm=LogisticRegression):\n",
    "        \n",
    "        self.model = algorithm(solver='lbfgs', multi_class='auto')\n",
    "        self.model.fit(self.X_train, self.y_train)\n",
    "        \n",
    "    def predict(self, input_data):\n",
    "        return self.model.predict(input_data)\n",
    "        \n",
    "    def get_accuracy(self):\n",
    "        return self.model.score(X=self.X_test, y=self.y_test)\n",
    "    \n",
    "    def run_pipeline(self):\n",
    "        \"\"\"Execution method for running the pipeline several times.\"\"\"\n",
    "        self.load_dataset()\n",
    "        self.train()"
   ]
  },
  {
   "cell_type": "markdown",
   "metadata": {},
   "source": [
    "### Running the pipeline"
   ]
  },
  {
   "cell_type": "code",
   "execution_count": 16,
   "metadata": {},
   "outputs": [
    {
     "name": "stdout",
     "output_type": "stream",
     "text": [
      "The Accuracy of the model is: 0.9693877551020408\n"
     ]
    },
    {
     "name": "stderr",
     "output_type": "stream",
     "text": [
      "d:\\Training\\ITESM\\MLOps_ITESM\\practice3\\Lib\\site-packages\\sklearn\\linear_model\\_logistic.py:1247: FutureWarning: 'multi_class' was deprecated in version 1.5 and will be removed in 1.7. From then on, it will always use 'multinomial'. Leave it to its default value to avoid this warning.\n",
      "  warnings.warn(\n"
     ]
    }
   ],
   "source": [
    "pipeline = SimplePipeline()\n",
    "pipeline.run_pipeline()\n",
    "accuracy_score = pipeline.get_accuracy()\n",
    "print(f'The Accuracy of the model is: {accuracy_score}')"
   ]
  },
  {
   "cell_type": "markdown",
   "metadata": {},
   "source": [
    "# Testing"
   ]
  },
  {
   "cell_type": "code",
   "execution_count": 15,
   "metadata": {},
   "outputs": [],
   "source": [
    "# Defining the schema\n",
    "iris_schema = {\n",
    "    'sepal length': {\n",
    "        'range': {\n",
    "            'min': 4.0,\n",
    "            'max': 8.0\n",
    "        },\n",
    "        'dtype': float,\n",
    "    },\n",
    "    'sepal width': {\n",
    "        'range': {\n",
    "            'min': 1.0,\n",
    "            'max': 5.0\n",
    "        },\n",
    "        'dtype': float,\n",
    "    },\n",
    "    'petal length': {\n",
    "        'range': {\n",
    "            'min': 1.0,\n",
    "            'max': 7.0\n",
    "        },\n",
    "        'dtype': float,\n",
    "    },\n",
    "    'petal width': {\n",
    "        'range': {\n",
    "            'min': 0.1,\n",
    "            'max': 3.0\n",
    "        },\n",
    "        'dtype': float,\n",
    "    }\n",
    "}"
   ]
  },
  {
   "cell_type": "code",
   "execution_count": 12,
   "metadata": {},
   "outputs": [],
   "source": [
    "@pytest.fixture\n",
    "def pipeline():\n",
    "    pl = SimplePipeline()\n",
    "    pl.run_pipeline()\n",
    "    return pl"
   ]
  },
  {
   "cell_type": "markdown",
   "metadata": {},
   "source": [
    "### Creating the tests"
   ]
  },
  {
   "cell_type": "code",
   "execution_count": 13,
   "metadata": {},
   "outputs": [
    {
     "name": "stdout",
     "output_type": "stream",
     "text": [
      "\u001b[32m.\u001b[0m\u001b[32m.\u001b[0m\u001b[33m                                                                                           [100%]\u001b[0m\n",
      "\u001b[33m======================================== warnings summary =========================================\u001b[0m\n",
      "notebooks/Testing/t_1e69149d3fd1463583e06a69e5fffdf3.py::test_input_data_ranges\n",
      "notebooks/Testing/t_1e69149d3fd1463583e06a69e5fffdf3.py::test_input_data_types\n",
      "  d:\\Training\\ITESM\\MLOps_ITESM\\practice3\\Lib\\site-packages\\sklearn\\linear_model\\_logistic.py:1247: FutureWarning: 'multi_class' was deprecated in version 1.5 and will be removed in 1.7. From then on, it will always use 'multinomial'. Leave it to its default value to avoid this warning.\n",
      "    warnings.warn(\n",
      "\n",
      "-- Docs: https://docs.pytest.org/en/stable/how-to/capture-warnings.html\n",
      "\u001b[33m\u001b[32m2 passed\u001b[0m, \u001b[33m\u001b[1m2 warnings\u001b[0m\u001b[33m in 0.11s\u001b[0m\u001b[0m\n"
     ]
    }
   ],
   "source": [
    "%%ipytest\n",
    "\n",
    "def test_input_data_ranges(pipeline):\n",
    "    # Getting the maximum and minimum values for each column\n",
    "    max_values = pipeline.frame.max()\n",
    "    min_values = pipeline.frame.min()\n",
    "    \n",
    "    # Ensuring that the maximum and minimum values fall into the expected range\n",
    "    for feature in pipeline.feature_names:\n",
    "        assert max_values[feature] <= iris_schema[feature]['range']['max']\n",
    "        assert min_values[feature] >= iris_schema[feature]['range']['min']\n",
    "\n",
    "def test_input_data_types(pipeline):\n",
    "    # Getting the data types from each column\n",
    "    data_types = pipeline.frame.dtypes\n",
    "    \n",
    "    # Testing compatibility between data types\n",
    "    for feature in pipeline.feature_names:\n",
    "        assert data_types[feature] == iris_schema[feature]['dtype']"
   ]
  },
  {
   "cell_type": "markdown",
   "metadata": {},
   "source": [
    "# Let´s make the test fail"
   ]
  },
  {
   "cell_type": "code",
   "execution_count": 14,
   "metadata": {},
   "outputs": [
    {
     "name": "stdout",
     "output_type": "stream",
     "text": [
      "\u001b[31mF\u001b[0m\u001b[31mF\u001b[0m\u001b[31m                                                                                           [100%]\u001b[0m\n",
      "============================================ FAILURES =============================================\n",
      "\u001b[31m\u001b[1m_____________________________________ test_input_data_ranges ______________________________________\u001b[0m\n",
      "\n",
      "pipeline = <__main__.SimplePipeline object at 0x000001A7124C0550>\n",
      "\n",
      "    \u001b[0m\u001b[94mdef\u001b[39;49;00m \u001b[92mtest_input_data_ranges\u001b[39;49;00m(pipeline):\u001b[90m\u001b[39;49;00m\n",
      "        max_values = pipeline.frame.max()\u001b[90m\u001b[39;49;00m\n",
      "        min_values = pipeline.frame.min()\u001b[90m\u001b[39;49;00m\n",
      "    \u001b[90m\u001b[39;49;00m\n",
      "        \u001b[94mfor\u001b[39;49;00m feature \u001b[95min\u001b[39;49;00m pipeline.feature_names:\u001b[90m\u001b[39;49;00m\n",
      "            \u001b[90m# Cambiar los valores esperados para que no coincidan con los reales\u001b[39;49;00m\u001b[90m\u001b[39;49;00m\n",
      ">           \u001b[94massert\u001b[39;49;00m max_values[feature] < \u001b[94m0\u001b[39;49;00m  \u001b[90m# Esto probablemente hará fallar la prueba\u001b[39;49;00m\u001b[90m\u001b[39;49;00m\n",
      "\u001b[1m\u001b[31mE           assert np.float64(7.9) < 0\u001b[0m\n",
      "\n",
      "\u001b[1m\u001b[31mC:\\Users\\richv\\AppData\\Local\\Temp\\ipykernel_2368\\2393645784.py\u001b[0m:7: AssertionError\n",
      "\u001b[31m\u001b[1m______________________________________ test_input_data_types ______________________________________\u001b[0m\n",
      "\n",
      "pipeline = <__main__.SimplePipeline object at 0x000001A712682C90>\n",
      "\n",
      "    \u001b[0m\u001b[94mdef\u001b[39;49;00m \u001b[92mtest_input_data_types\u001b[39;49;00m(pipeline):\u001b[90m\u001b[39;49;00m\n",
      "        \u001b[90m# Obtener los tipos de datos de las columnas\u001b[39;49;00m\u001b[90m\u001b[39;49;00m\n",
      "        data_types = pipeline.frame.dtypes\u001b[90m\u001b[39;49;00m\n",
      "    \u001b[90m\u001b[39;49;00m\n",
      "        \u001b[90m# Probar que los tipos de datos coincidan con los esperados\u001b[39;49;00m\u001b[90m\u001b[39;49;00m\n",
      "        \u001b[94mfor\u001b[39;49;00m feature \u001b[95min\u001b[39;49;00m pipeline.feature_names:\u001b[90m\u001b[39;49;00m\n",
      ">           \u001b[94massert\u001b[39;49;00m data_types[feature] != iris_schema[feature][\u001b[33m'\u001b[39;49;00m\u001b[33mdtype\u001b[39;49;00m\u001b[33m'\u001b[39;49;00m]\u001b[90m\u001b[39;49;00m\n",
      "\u001b[1m\u001b[31mE           AssertionError: assert dtype('float64') != <class 'float'>\u001b[0m\n",
      "\n",
      "\u001b[1m\u001b[31mC:\\Users\\richv\\AppData\\Local\\Temp\\ipykernel_2368\\2393645784.py\u001b[0m:16: AssertionError\n",
      "\u001b[33m======================================== warnings summary =========================================\u001b[0m\n",
      "notebooks/Testing/t_1e69149d3fd1463583e06a69e5fffdf3.py::test_input_data_ranges\n",
      "notebooks/Testing/t_1e69149d3fd1463583e06a69e5fffdf3.py::test_input_data_types\n",
      "  d:\\Training\\ITESM\\MLOps_ITESM\\practice3\\Lib\\site-packages\\sklearn\\linear_model\\_logistic.py:1247: FutureWarning: 'multi_class' was deprecated in version 1.5 and will be removed in 1.7. From then on, it will always use 'multinomial'. Leave it to its default value to avoid this warning.\n",
      "    warnings.warn(\n",
      "\n",
      "-- Docs: https://docs.pytest.org/en/stable/how-to/capture-warnings.html\n",
      "\u001b[36m\u001b[1m===================================== short test summary info =====================================\u001b[0m\n",
      "\u001b[31mFAILED\u001b[0m t_1e69149d3fd1463583e06a69e5fffdf3.py::\u001b[1mtest_input_data_ranges\u001b[0m - assert np.float64(7.9) < 0\n",
      "\u001b[31mFAILED\u001b[0m t_1e69149d3fd1463583e06a69e5fffdf3.py::\u001b[1mtest_input_data_types\u001b[0m - AssertionError: assert dtype('float64') != <class 'float'>\n",
      "\u001b[31m\u001b[31m\u001b[1m2 failed\u001b[0m, \u001b[33m2 warnings\u001b[0m\u001b[31m in 0.19s\u001b[0m\u001b[0m\n"
     ]
    }
   ],
   "source": [
    "%%ipytest\n",
    "\n",
    "\n",
    "def test_input_data_ranges(pipeline):\n",
    "    max_values = pipeline.frame.max()\n",
    "    min_values = pipeline.frame.min()\n",
    "    \n",
    "    for feature in pipeline.feature_names:\n",
    "        # We change the values so the new ones are not the same as those we have already in the schema\n",
    "        assert max_values[feature] < 0  # This will make the test fail\n",
    "        assert min_values[feature] > 1000  # This one as well\n",
    "\n",
    "def test_input_data_types(pipeline):\n",
    "    # Getting the data types from each column\n",
    "    data_types = pipeline.frame.dtypes\n",
    "    \n",
    "    # Making comparissons between data types\n",
    "    for feature in pipeline.feature_names:\n",
    "        assert data_types[feature] != iris_schema[feature]['dtype']"
   ]
  }
 ],
 "metadata": {
  "kernelspec": {
   "display_name": "practice3",
   "language": "python",
   "name": "python3"
  },
  "language_info": {
   "codemirror_mode": {
    "name": "ipython",
    "version": 3
   },
   "file_extension": ".py",
   "mimetype": "text/x-python",
   "name": "python",
   "nbconvert_exporter": "python",
   "pygments_lexer": "ipython3",
   "version": "3.11.5"
  }
 },
 "nbformat": 4,
 "nbformat_minor": 2
}
