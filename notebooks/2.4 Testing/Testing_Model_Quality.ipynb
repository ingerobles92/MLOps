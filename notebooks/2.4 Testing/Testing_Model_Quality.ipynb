{
 "cells": [
  {
   "cell_type": "markdown",
   "metadata": {},
   "source": [
    "# Initial Setup"
   ]
  },
  {
   "cell_type": "code",
   "execution_count": 1,
   "metadata": {},
   "outputs": [
    {
     "name": "stdout",
     "output_type": "stream",
     "text": [
      "Requirement already satisfied: ipytest in d:\\training\\itesm\\mlops_itesm\\practice3\\lib\\site-packages (0.14.2)\n",
      "Requirement already satisfied: ipython in d:\\training\\itesm\\mlops_itesm\\practice3\\lib\\site-packages (from ipytest) (8.28.0)\n",
      "Requirement already satisfied: packaging in d:\\training\\itesm\\mlops_itesm\\practice3\\lib\\site-packages (from ipytest) (24.1)\n",
      "Requirement already satisfied: pytest>=5.4 in d:\\training\\itesm\\mlops_itesm\\practice3\\lib\\site-packages (from ipytest) (8.3.3)\n",
      "Requirement already satisfied: iniconfig in d:\\training\\itesm\\mlops_itesm\\practice3\\lib\\site-packages (from pytest>=5.4->ipytest) (2.0.0)\n",
      "Requirement already satisfied: pluggy<2,>=1.5 in d:\\training\\itesm\\mlops_itesm\\practice3\\lib\\site-packages (from pytest>=5.4->ipytest) (1.5.0)\n",
      "Requirement already satisfied: colorama in d:\\training\\itesm\\mlops_itesm\\practice3\\lib\\site-packages (from pytest>=5.4->ipytest) (0.4.6)\n",
      "Requirement already satisfied: decorator in d:\\training\\itesm\\mlops_itesm\\practice3\\lib\\site-packages (from ipython->ipytest) (5.1.1)\n",
      "Requirement already satisfied: jedi>=0.16 in d:\\training\\itesm\\mlops_itesm\\practice3\\lib\\site-packages (from ipython->ipytest) (0.19.1)\n",
      "Requirement already satisfied: matplotlib-inline in d:\\training\\itesm\\mlops_itesm\\practice3\\lib\\site-packages (from ipython->ipytest) (0.1.7)\n",
      "Requirement already satisfied: prompt-toolkit<3.1.0,>=3.0.41 in d:\\training\\itesm\\mlops_itesm\\practice3\\lib\\site-packages (from ipython->ipytest) (3.0.48)\n",
      "Requirement already satisfied: pygments>=2.4.0 in d:\\training\\itesm\\mlops_itesm\\practice3\\lib\\site-packages (from ipython->ipytest) (2.18.0)\n",
      "Requirement already satisfied: stack-data in d:\\training\\itesm\\mlops_itesm\\practice3\\lib\\site-packages (from ipython->ipytest) (0.6.3)\n",
      "Requirement already satisfied: traitlets>=5.13.0 in d:\\training\\itesm\\mlops_itesm\\practice3\\lib\\site-packages (from ipython->ipytest) (5.14.3)\n",
      "Requirement already satisfied: typing-extensions>=4.6 in d:\\training\\itesm\\mlops_itesm\\practice3\\lib\\site-packages (from ipython->ipytest) (4.12.2)\n",
      "Requirement already satisfied: parso<0.9.0,>=0.8.3 in d:\\training\\itesm\\mlops_itesm\\practice3\\lib\\site-packages (from jedi>=0.16->ipython->ipytest) (0.8.4)\n",
      "Requirement already satisfied: wcwidth in d:\\training\\itesm\\mlops_itesm\\practice3\\lib\\site-packages (from prompt-toolkit<3.1.0,>=3.0.41->ipython->ipytest) (0.2.13)\n",
      "Requirement already satisfied: executing>=1.2.0 in d:\\training\\itesm\\mlops_itesm\\practice3\\lib\\site-packages (from stack-data->ipython->ipytest) (2.1.0)\n",
      "Requirement already satisfied: asttokens>=2.1.0 in d:\\training\\itesm\\mlops_itesm\\practice3\\lib\\site-packages (from stack-data->ipython->ipytest) (2.4.1)\n",
      "Requirement already satisfied: pure-eval in d:\\training\\itesm\\mlops_itesm\\practice3\\lib\\site-packages (from stack-data->ipython->ipytest) (0.2.3)\n",
      "Requirement already satisfied: six>=1.12.0 in d:\\training\\itesm\\mlops_itesm\\practice3\\lib\\site-packages (from asttokens>=2.1.0->stack-data->ipython->ipytest) (1.16.0)\n"
     ]
    },
    {
     "name": "stderr",
     "output_type": "stream",
     "text": [
      "\n",
      "[notice] A new release of pip is available: 24.2 -> 24.3\n",
      "[notice] To update, run: python.exe -m pip install --upgrade pip\n"
     ]
    }
   ],
   "source": [
    "# This is needed only for the purpose of the notebook\n",
    "!pip install ipytest"
   ]
  },
  {
   "cell_type": "code",
   "execution_count": 2,
   "metadata": {},
   "outputs": [],
   "source": [
    "# Importing required libraries\n",
    "import pandas as pd\n",
    "import numpy as np\n",
    "\n",
    "from sklearn import datasets\n",
    "from sklearn.linear_model import LogisticRegression\n",
    "from sklearn.model_selection import train_test_split\n",
    "from sklearn.preprocessing import StandardScaler\n",
    "from sklearn.metrics import mean_squared_error, accuracy_score\n",
    "\n",
    "import pytest\n",
    "import ipytest\n",
    "ipytest.autoconfig()"
   ]
  },
  {
   "cell_type": "code",
   "execution_count": 3,
   "metadata": {},
   "outputs": [],
   "source": [
    "# Getting the data\n",
    "iris = datasets.load_iris()"
   ]
  },
  {
   "cell_type": "code",
   "execution_count": 4,
   "metadata": {},
   "outputs": [],
   "source": [
    "# Simple setup in the data\n",
    "iris_df = pd.DataFrame(iris.data, columns = iris.feature_names)\n",
    "iris_df['target'] = iris.target"
   ]
  },
  {
   "cell_type": "markdown",
   "metadata": {},
   "source": [
    "### Setting up the classes defined in the previous notebooks"
   ]
  },
  {
   "cell_type": "code",
   "execution_count": 5,
   "metadata": {},
   "outputs": [],
   "source": [
    "class SimplePipeline:\n",
    "    def __init__(self):\n",
    "        self.frame = None\n",
    "        # Each value is None when we instantiate the class\n",
    "        self.X_train, self.X_test, self.y_train, self.Y_test = None, None, None, None\n",
    "        self.model = None\n",
    "        self.load_dataset()\n",
    "    \n",
    "    def load_dataset(self):\n",
    "        \"\"\"Loading the dataset, and make the train, test, split.\"\"\"\n",
    "        dataset = datasets.load_iris()\n",
    "        \n",
    "        # Removing the units (cm) from the headers\n",
    "        self.feature_names = [fn[:-5] for fn in dataset.feature_names]\n",
    "        self.frame = pd.DataFrame(dataset.data, columns=self.feature_names)\n",
    "        self.frame['target'] = dataset.target\n",
    "        \n",
    "        self.X_train, self.X_test, self.y_train, self.y_test = train_test_split(\n",
    "            self.frame[self.feature_names], self.frame.target, test_size=0.65, random_state=42)\n",
    "        \n",
    "    def train(self, algorithm=LogisticRegression):\n",
    "        \n",
    "        self.model = algorithm(solver='lbfgs', multi_class='auto')\n",
    "        self.model.fit(self.X_train, self.y_train)\n",
    "        \n",
    "    def predict(self, input_data):\n",
    "        return self.model.predict(input_data)\n",
    "        \n",
    "    def get_accuracy(self):\n",
    "        return self.model.score(X=self.X_test, y=self.y_test)\n",
    "    \n",
    "    def run_pipeline(self):\n",
    "        \"\"\"Execution method for running the pipeline several times.\"\"\"\n",
    "        self.load_dataset()\n",
    "        self.train()"
   ]
  },
  {
   "cell_type": "code",
   "execution_count": 6,
   "metadata": {},
   "outputs": [],
   "source": [
    "class PipelineWithFeatureEngineering(SimplePipeline):\n",
    "    def __init__(self):\n",
    "        # Calling the inherit method SimplePipeline __init__ first.\n",
    "        super().__init__()\n",
    "        \n",
    "        # Standardizing the variables in the dataset.\n",
    "        self.scaler = StandardScaler()\n",
    "        # Training the pipeline\n",
    "        self.scaler.fit(self.X_train)\n",
    "    \n",
    "    def apply_scaler(self):\n",
    "        # Scaling training and testing data with mean 0 and variance 1.\n",
    "        self.X_train = self.scaler.transform(self.X_train)\n",
    "        self.X_test = self.scaler.transform(self.X_test)\n",
    "        \n",
    "    def predict(self, input_data):\n",
    "        # Applying the scaler before making the predictions.\n",
    "        scaled_input_data = self.scaler.transform(input_data)\n",
    "        return self.model.predict(scaled_input_data)\n",
    "                  \n",
    "    def run_pipeline(self):\n",
    "        self.load_dataset()\n",
    "        self.apply_scaler()\n",
    "        self.train()"
   ]
  },
  {
   "cell_type": "markdown",
   "metadata": {},
   "source": [
    "# Testing"
   ]
  },
  {
   "cell_type": "markdown",
   "metadata": {},
   "source": [
    "We will check two different tests:\n",
    "- Benchmark test: Comparing the accuracy of the model against a simple benchmark\n",
    "- Differencial test: Comparing the accuracy of one model against the other\n",
    "\n",
    "Let's first predict the most common class"
   ]
  },
  {
   "cell_type": "code",
   "execution_count": 7,
   "metadata": {},
   "outputs": [
    {
     "data": {
      "text/plain": [
       "target\n",
       "0    50\n",
       "1    50\n",
       "2    50\n",
       "Name: count, dtype: int64"
      ]
     },
     "execution_count": 7,
     "metadata": {},
     "output_type": "execute_result"
    }
   ],
   "source": [
    "iris_df['target'].value_counts()"
   ]
  },
  {
   "cell_type": "code",
   "execution_count": 8,
   "metadata": {},
   "outputs": [],
   "source": [
    "@pytest.fixture\n",
    "def pipelines():\n",
    "    pipeline_v1 = SimplePipeline()\n",
    "    pipeline_v2 = PipelineWithFeatureEngineering()\n",
    "    pipeline_v1.run_pipeline()\n",
    "    pipeline_v2.run_pipeline()\n",
    "    return pipeline_v1, pipeline_v2"
   ]
  },
  {
   "cell_type": "code",
   "execution_count": 14,
   "metadata": {},
   "outputs": [
    {
     "name": "stdout",
     "output_type": "stream",
     "text": [
      "\u001b[32m.\u001b[0m\u001b[33m                                                                                            [100%]\u001b[0m\n",
      "\u001b[33m======================================== warnings summary =========================================\u001b[0m\n",
      "notebooks/Testing/t_a8c348e3f24f48089dc21b6d75c144c8.py::test_accuracy_higher_than_benchmark\n",
      "notebooks/Testing/t_a8c348e3f24f48089dc21b6d75c144c8.py::test_accuracy_higher_than_benchmark\n",
      "  d:\\Training\\ITESM\\MLOps_ITESM\\practice3\\Lib\\site-packages\\sklearn\\linear_model\\_logistic.py:1247: FutureWarning: 'multi_class' was deprecated in version 1.5 and will be removed in 1.7. From then on, it will always use 'multinomial'. Leave it to its default value to avoid this warning.\n",
      "    warnings.warn(\n",
      "\n",
      "-- Docs: https://docs.pytest.org/en/stable/how-to/capture-warnings.html\n",
      "\u001b[33m\u001b[32m1 passed\u001b[0m, \u001b[33m\u001b[1m2 warnings\u001b[0m\u001b[33m in 0.06s\u001b[0m\u001b[0m\n"
     ]
    }
   ],
   "source": [
    "%%ipytest\n",
    "\n",
    "def test_accuracy_higher_than_benchmark(pipelines):\n",
    "    pipeline_v1, _ = pipelines\n",
    "    \n",
    "    # Initial Benchmark\n",
    "    benchmark_predictions = [1.0] * len(pipeline_v1.y_test)\n",
    "    benchmark_accuracy = accuracy_score(y_true=pipeline_v1.y_test, y_pred=benchmark_predictions)\n",
    "    \n",
    "    # Getting the accuracy of the model\n",
    "    predictions = pipeline_v1.predict(pipeline_v1.X_test)\n",
    "    actual_accuracy = accuracy_score(y_true=pipeline_v1.y_test, y_pred=predictions)\n",
    "    \n",
    "    print(f'Accuracy of model 1: {actual_accuracy}, Accuracy of Benchmark: {benchmark_accuracy}')\n",
    "    \n",
    "    # Comparing the accuracy of the first model against the benchmark\n",
    "    assert actual_accuracy > benchmark_accuracy\n",
    "\n"
   ]
  },
  {
   "cell_type": "code",
   "execution_count": 11,
   "metadata": {},
   "outputs": [
    {
     "name": "stdout",
     "output_type": "stream",
     "text": [
      "\u001b[31mF\u001b[0m\u001b[31m                                                                                            [100%]\u001b[0m\n",
      "============================================ FAILURES =============================================\n",
      "\u001b[31m\u001b[1m___________________________ test_accuracy_compared_to_previous_version ____________________________\u001b[0m\n",
      "\n",
      "pipelines = (<__main__.SimplePipeline object at 0x0000025141675150>, <__main__.PipelineWithFeatureEngineering object at 0x000002514166C5D0>)\n",
      "\n",
      "    \u001b[0m\u001b[94mdef\u001b[39;49;00m \u001b[92mtest_accuracy_compared_to_previous_version\u001b[39;49;00m(pipelines):\u001b[90m\u001b[39;49;00m\n",
      "        pipeline_v1, pipeline_v2 = pipelines\u001b[90m\u001b[39;49;00m\n",
      "    \u001b[90m\u001b[39;49;00m\n",
      "        \u001b[90m# Getting the accuracy of each version\u001b[39;49;00m\u001b[90m\u001b[39;49;00m\n",
      "        v1_accuracy = pipeline_v1.get_accuracy()\u001b[90m\u001b[39;49;00m\n",
      "        v2_accuracy = pipeline_v2.get_accuracy()\u001b[90m\u001b[39;49;00m\n",
      "    \u001b[90m\u001b[39;49;00m\n",
      "        \u001b[96mprint\u001b[39;49;00m(\u001b[33mf\u001b[39;49;00m\u001b[33m'\u001b[39;49;00m\u001b[33mAccuracy of model 1: \u001b[39;49;00m\u001b[33m{\u001b[39;49;00mv1_accuracy\u001b[33m}\u001b[39;49;00m\u001b[33m'\u001b[39;49;00m)\u001b[90m\u001b[39;49;00m\n",
      "        \u001b[96mprint\u001b[39;49;00m(\u001b[33mf\u001b[39;49;00m\u001b[33m'\u001b[39;49;00m\u001b[33mAccuracy of model 2: \u001b[39;49;00m\u001b[33m{\u001b[39;49;00mv2_accuracy\u001b[33m}\u001b[39;49;00m\u001b[33m'\u001b[39;49;00m)\u001b[90m\u001b[39;49;00m\n",
      "    \u001b[90m\u001b[39;49;00m\n",
      "        \u001b[90m# Comparing the accuracy of the second model against the first one\u001b[39;49;00m\u001b[90m\u001b[39;49;00m\n",
      ">       \u001b[94massert\u001b[39;49;00m v2_accuracy >= v1_accuracy\u001b[90m\u001b[39;49;00m\n",
      "\u001b[1m\u001b[31mE       assert 0.9591836734693877 >= 0.9693877551020408\u001b[0m\n",
      "\n",
      "\u001b[1m\u001b[31mC:\\Users\\richv\\AppData\\Local\\Temp\\ipykernel_11500\\2185548600.py\u001b[0m:12: AssertionError\n",
      "-------------------------------------- Captured stdout call ---------------------------------------\n",
      "Accuracy of model 1: 0.9693877551020408\n",
      "Accuracy of model 2: 0.9591836734693877\n",
      "\u001b[33m======================================== warnings summary =========================================\u001b[0m\n",
      "notebooks/Testing/t_a8c348e3f24f48089dc21b6d75c144c8.py::test_accuracy_compared_to_previous_version\n",
      "notebooks/Testing/t_a8c348e3f24f48089dc21b6d75c144c8.py::test_accuracy_compared_to_previous_version\n",
      "  d:\\Training\\ITESM\\MLOps_ITESM\\practice3\\Lib\\site-packages\\sklearn\\linear_model\\_logistic.py:1247: FutureWarning: 'multi_class' was deprecated in version 1.5 and will be removed in 1.7. From then on, it will always use 'multinomial'. Leave it to its default value to avoid this warning.\n",
      "    warnings.warn(\n",
      "\n",
      "-- Docs: https://docs.pytest.org/en/stable/how-to/capture-warnings.html\n",
      "\u001b[36m\u001b[1m===================================== short test summary info =====================================\u001b[0m\n",
      "\u001b[31mFAILED\u001b[0m t_a8c348e3f24f48089dc21b6d75c144c8.py::\u001b[1mtest_accuracy_compared_to_previous_version\u001b[0m - assert 0.9591836734693877 >= 0.9693877551020408\n",
      "\u001b[31m\u001b[31m\u001b[1m1 failed\u001b[0m, \u001b[33m2 warnings\u001b[0m\u001b[31m in 0.08s\u001b[0m\u001b[0m\n"
     ]
    }
   ],
   "source": [
    "%%ipytest\n",
    "\n",
    "def test_accuracy_compared_to_previous_version(pipelines):\n",
    "    pipeline_v1, pipeline_v2 = pipelines\n",
    "    \n",
    "    # Getting the accuracy of each version\n",
    "    v1_accuracy = pipeline_v1.get_accuracy()\n",
    "    v2_accuracy = pipeline_v2.get_accuracy()\n",
    "    \n",
    "    print(f'Accuracy of model 1: {v1_accuracy}')\n",
    "    print(f'Accuracy of model 2: {v2_accuracy}')\n",
    "    \n",
    "    # Comparing the accuracy of the second model against the first one\n",
    "    assert v2_accuracy >= v1_accuracy"
   ]
  }
 ],
 "metadata": {
  "kernelspec": {
   "display_name": "practice3",
   "language": "python",
   "name": "python3"
  },
  "language_info": {
   "codemirror_mode": {
    "name": "ipython",
    "version": 3
   },
   "file_extension": ".py",
   "mimetype": "text/x-python",
   "name": "python",
   "nbconvert_exporter": "python",
   "pygments_lexer": "ipython3",
   "version": "3.11.5"
  }
 },
 "nbformat": 4,
 "nbformat_minor": 2
}
